{
 "cells": [
  {
   "cell_type": "markdown",
   "id": "00079ec0-da32-4fb6-bc98-58e059916ddd",
   "metadata": {},
   "source": [
    "Q1. What are Eigenvalues and Eigenvectors? How are they related to the Eigen-Decomposition approach?\n",
    "Explain with an example.\n",
    "Ans->Eigen value tells us that how much variance is capturing by an eigen vector,For Eigen-Decomposition:following some steps\n",
    "1)covariance matrix between features,\n",
    "2)Eigen value and eigen vectors will be found out using covariance matrix,Av=(lembda)v\n",
    "3)max eigen vector of an eigen value will be have max variance.\n",
    "\n",
    "\n",
    "Q2. What is eigen decomposition and what is its significance in linear algebra?\n",
    "Ans->In linear algebra, eigendecomposition is the factorization of a matrix into a canonical form, whereby the matrix is represented in terms of its eigenvalues and eigenvectors. Only diagonalizable matrices can be factorized in this way.\n",
    "\n",
    "\n",
    "Q3. What are the conditions that must be satisfied for a square matrix to be diagonalizable using the\n",
    "Eigen-Decomposition approach? Provide a brief proof to support your answer.\n",
    "Ans->To summarize, an n×n matrix A is diagonalizable if and only if there are enough linearly independent eigenvectors to form a basis of Rn. \n",
    "\n",
    "\n",
    "Q4. What is the significance of the spectral theorem in the context of the Eigen-Decomposition approach?\n",
    "How is it related to the diagonalizability of a matrix? Explain with an example.\n",
    "Ans->The result offers a simple way to decompose the symmetric matrix as a product of simple transformations\n",
    "\n",
    "\n",
    "\n",
    "\n",
    "Q5. What are some real-world applications of eigen decomposition?\n",
    "Ans->It is used in car design especially.\n",
    "Eigendecomposition is particularly useful for analysing the structure of the data matrix in terms of the eigenvalues and eigenvectors\n",
    "\n",
    "\n",
    "Q6. Can a matrix have more than one set of eigenvectors and eigenvalues?\n",
    "Ans->Yes."
   ]
  }
 ],
 "metadata": {
  "kernelspec": {
   "display_name": "Python 3 (ipykernel)",
   "language": "python",
   "name": "python3"
  },
  "language_info": {
   "codemirror_mode": {
    "name": "ipython",
    "version": 3
   },
   "file_extension": ".py",
   "mimetype": "text/x-python",
   "name": "python",
   "nbconvert_exporter": "python",
   "pygments_lexer": "ipython3",
   "version": "3.10.8"
  }
 },
 "nbformat": 4,
 "nbformat_minor": 5
}
